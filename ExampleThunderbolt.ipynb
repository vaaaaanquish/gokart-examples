{
 "cells": [
  {
   "cell_type": "code",
   "execution_count": 1,
   "metadata": {},
   "outputs": [],
   "source": [
    "from thunderbolt import Thunderbolt\n",
    "tb = Thunderbolt('./GokartSample/resource/')"
   ]
  },
  {
   "cell_type": "code",
   "execution_count": 2,
   "metadata": {},
   "outputs": [
    {
     "data": {
      "text/html": [
       "<div>\n",
       "<style scoped>\n",
       "    .dataframe tbody tr th:only-of-type {\n",
       "        vertical-align: middle;\n",
       "    }\n",
       "\n",
       "    .dataframe tbody tr th {\n",
       "        vertical-align: top;\n",
       "    }\n",
       "\n",
       "    .dataframe thead th {\n",
       "        text-align: right;\n",
       "    }\n",
       "</style>\n",
       "<table border=\"1\" class=\"dataframe\">\n",
       "  <thead>\n",
       "    <tr style=\"text-align: right;\">\n",
       "      <th></th>\n",
       "      <th>task_id</th>\n",
       "      <th>task_name</th>\n",
       "      <th>last_modified</th>\n",
       "      <th>task_params</th>\n",
       "      <th>task_hash</th>\n",
       "      <th>task_log</th>\n",
       "    </tr>\n",
       "  </thead>\n",
       "  <tbody>\n",
       "    <tr>\n",
       "      <th>0</th>\n",
       "      <td>0</td>\n",
       "      <td>TaskB</td>\n",
       "      <td>2020-02-15 14:57:20.801618</td>\n",
       "      <td>{'task': '{\"type\": \"sample.TaskA\", \"params\": {...</td>\n",
       "      <td>cb786f70051e31e9f4fcdf2aac06b533</td>\n",
       "      <td>{'file_path': ['./resource/sample/model/sample...</td>\n",
       "    </tr>\n",
       "    <tr>\n",
       "      <th>1</th>\n",
       "      <td>1</td>\n",
       "      <td>TaskC</td>\n",
       "      <td>2020-02-15 14:57:20.827288</td>\n",
       "      <td>{}</td>\n",
       "      <td>e49eb8498c2ad327e1ca4ead88cea1ad</td>\n",
       "      <td>{'file_path': ['./resource/sample/model/sample...</td>\n",
       "    </tr>\n",
       "    <tr>\n",
       "      <th>2</th>\n",
       "      <td>2</td>\n",
       "      <td>TaskA</td>\n",
       "      <td>2020-02-15 14:57:20.782894</td>\n",
       "      <td>{'sample': 'hoge'}</td>\n",
       "      <td>74416d6e12945172d2ae8a4eaa6bc9de</td>\n",
       "      <td>{'file_path': ['./resource/sample/model/sample...</td>\n",
       "    </tr>\n",
       "  </tbody>\n",
       "</table>\n",
       "</div>"
      ],
      "text/plain": [
       "   task_id task_name              last_modified  \\\n",
       "0        0     TaskB 2020-02-15 14:57:20.801618   \n",
       "1        1     TaskC 2020-02-15 14:57:20.827288   \n",
       "2        2     TaskA 2020-02-15 14:57:20.782894   \n",
       "\n",
       "                                         task_params  \\\n",
       "0  {'task': '{\"type\": \"sample.TaskA\", \"params\": {...   \n",
       "1                                                 {}   \n",
       "2                                 {'sample': 'hoge'}   \n",
       "\n",
       "                          task_hash  \\\n",
       "0  cb786f70051e31e9f4fcdf2aac06b533   \n",
       "1  e49eb8498c2ad327e1ca4ead88cea1ad   \n",
       "2  74416d6e12945172d2ae8a4eaa6bc9de   \n",
       "\n",
       "                                            task_log  \n",
       "0  {'file_path': ['./resource/sample/model/sample...  \n",
       "1  {'file_path': ['./resource/sample/model/sample...  \n",
       "2  {'file_path': ['./resource/sample/model/sample...  "
      ]
     },
     "execution_count": 2,
     "metadata": {},
     "output_type": "execute_result"
    }
   ],
   "source": [
    "tb.get_task_df(all_data=True)"
   ]
  },
  {
   "cell_type": "code",
   "execution_count": 3,
   "metadata": {},
   "outputs": [
    {
     "data": {
      "text/plain": [
       "{'param_a': 1, 'param_b': 'hoge'}"
      ]
     },
     "execution_count": 3,
     "metadata": {},
     "output_type": "execute_result"
    }
   ],
   "source": [
    "result_a = tb.get_data('TaskA')\n",
    "result_a"
   ]
  },
  {
   "cell_type": "code",
   "execution_count": 4,
   "metadata": {},
   "outputs": [
    {
     "data": {
      "text/plain": [
       "{'param_a': 1, 'param_b': 'hoge', 'trained': True}"
      ]
     },
     "execution_count": 4,
     "metadata": {},
     "output_type": "execute_result"
    }
   ],
   "source": [
    "result_b = tb.get_data('TaskB')\n",
    "result_b"
   ]
  },
  {
   "cell_type": "code",
   "execution_count": 5,
   "metadata": {},
   "outputs": [
    {
     "data": {
      "text/plain": [
       "{'param_a': 1, 'param_b': 'hoge', 'trained': True, 'task_name': 'task_c'}"
      ]
     },
     "execution_count": 5,
     "metadata": {},
     "output_type": "execute_result"
    }
   ],
   "source": [
    "result_c = tb.get_data('TaskC')\n",
    "result_c"
   ]
  }
 ],
 "metadata": {
  "kernelspec": {
   "display_name": "Python 3",
   "language": "python",
   "name": "python3"
  },
  "language_info": {
   "codemirror_mode": {
    "name": "ipython",
    "version": 3
   },
   "file_extension": ".py",
   "mimetype": "text/x-python",
   "name": "python",
   "nbconvert_exporter": "python",
   "pygments_lexer": "ipython3",
   "version": "3.6.8"
  }
 },
 "nbformat": 4,
 "nbformat_minor": 4
}
